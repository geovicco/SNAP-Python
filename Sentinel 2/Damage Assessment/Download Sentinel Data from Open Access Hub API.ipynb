{
 "cells": [
  {
   "cell_type": "code",
   "execution_count": 1,
   "id": "8232541e-0b80-4645-a586-4530cc4feedf",
   "metadata": {},
   "outputs": [],
   "source": [
    "import geopandas as gpd\n",
    "from sentinelsat import SentinelAPI, read_geojson, geojson_to_wkt\n",
    "from datetime import date\n",
    "import folium\n",
    "import zipfile\n",
    "import matplotlib.pyplot as plt\n",
    "import os"
   ]
  },
  {
   "cell_type": "markdown",
   "id": "3178a6d4-6722-4e12-b627-2a9852854e72",
   "metadata": {},
   "source": [
    "### Convert shapefile to geojson and export it"
   ]
  },
  {
   "cell_type": "code",
   "execution_count": 2,
   "id": "39418456-d3d5-4b88-a5e6-d10d84f63d36",
   "metadata": {},
   "outputs": [
    {
     "data": {
      "text/plain": [
       "<AxesSubplot:>"
      ]
     },
     "execution_count": 2,
     "metadata": {},
     "output_type": "execute_result"
    },
    {
     "data": {
      "image/png": "[encoded data removed]",
      "text/plain": [
       "<Figure size 432x288 with 1 Axes>"
      ]
     },
     "metadata": {
      "needs_background": "light"
     },
     "output_type": "display_data"
    }
   ],
   "source": [
    "gdf = gpd.read_file('../Data/Shapefile/GazaStripAdminBoundary.shp')\n",
    "# gdf.to_file('../Data/Shapefile/GazaStripAdminBoundary.geojson', driver='GeoJSON')\n",
    "gdf.plot()"
   ]
  },
  {
   "cell_type": "code",
   "execution_count": 3,
   "id": "a8a1a61a-1ef4-4251-b9d6-20f979528977",
   "metadata": {},
   "outputs": [
    {
     "data": {
      "text/html": [
       "<div style=\"width:100%;\"><div style=\"position:relative;width:100%;height:0;padding-bottom:60%;\"><span style=\"color:#565656\">Make this Notebook Trusted to load map: File -> Trust Notebook</span><iframe src=\"about:blank\" style=\"position:absolute;width:100%;height:100%;left:0;top:0;border:none !important;\" data-html=%3C%21DOCTYPE%20html%3E%0A%3Chead%3E%20%20%20%20%0A%20%20%20%20%3Cmeta%20http-equiv%3D%22content-type%22%20content%3D%22text/html%3B%20charset%3DUTF-8%22%20/%3E%0A%20%20%20%20%0A%20%20%20%20%20%20%20%20%3Cscript%3E%0A%20%20%20%20%20%20%20%20%20%20%20%20L_NO_TOUCH%20%3D%20false%3B%0A%20%20%20%20%20%20%20%20%20%20%20%20L_DISABLE_3D%20%3D%20false%3B%0A%20%20%20%20%20%20%20%20%3C/script%3E%0A%20%20%20%20%0A%20%20%20%20%3Cstyle%3Ehtml%2C%20body%20%7Bwidth%3A%20100%25%3Bheight%3A%20100%25%3Bmargin%3A%200%3Bpadding%3A%200%3B%7D%3C/style%3E%0A%20%20%20%20%3Cstyle%3E%23map%20%7Bposition%3Aabsolute%3Btop%3A0%3Bbottom%3A0%3Bright%3A0%3Bleft%3A0%3B%7D%3C/style%3E%0A%20%20%20%20%3Cscript%20src%3D%22https%3A//cdn.jsdelivr.net/npm/leaflet%401.6.0/dist/leaflet.js%22%3E%3C/script%3E%0A%20%20%20%20%3Cscript%20src%3D%22https%3A//code.jquery.com/jquery-1.12.4.min.js%22%3E%3C/script%3E%0A%20%20%20%20%3Cscript%20src%3D%22https%3A//maxcdn.bootstrapcdn.com/bootstrap/3.2.0/js/bootstrap.min.js%22%3E%3C/script%3E%0A%20%20%20%20%3Cscript%20src%3D%22https%3A//cdnjs.cloudflare.com/ajax/libs/Leaflet.awesome-markers/2.0.2/leaflet.awesome-markers.js%22%3E%3C/script%3E%0A%20%20%20%20%3Clink%20rel%3D%22stylesheet%22%20href%3D%22https%3A//cdn.jsdelivr.net/npm/leaflet%401.6.0/dist/leaflet.css%22/%3E%0A%20%20%20%20%3Clink%20rel%3D%22stylesheet%22%20href%3D%22https%3A//maxcdn.bootstrapcdn.com/bootstrap/3.2.0/css/bootstrap.min.css%22/%3E%0A%20%20%20%20%3Clink%20rel%3D%22stylesheet%22%20href%3D%22https%3A//maxcdn.bootstrapcdn.com/bootstrap/3.2.0/css/bootstrap-theme.min.css%22/%3E%0A%20%20%20%20%3Clink%20rel%3D%22stylesheet%22%20href%3D%22https%3A//maxcdn.bootstrapcdn.com/font-awesome/4.6.3/css/font-awesome.min.css%22/%3E%0A%20%20%20%20%3Clink%20rel%3D%22stylesheet%22%20href%3D%22https%3A//cdnjs.cloudflare.com/ajax/libs/Leaflet.awesome-markers/2.0.2/leaflet.awesome-markers.css%22/%3E%0A%20%20%20%20%3Clink%20rel%3D%22stylesheet%22%20href%3D%22https%3A//cdn.jsdelivr.net/gh/python-visualization/folium/folium/templates/leaflet.awesome.rotate.min.css%22/%3E%0A%20%20%20%20%0A%20%20%20%20%20%20%20%20%20%20%20%20%3Cmeta%20name%3D%22viewport%22%20content%3D%22width%3Ddevice-width%2C%0A%20%20%20%20%20%20%20%20%20%20%20%20%20%20%20%20initial-scale%3D1.0%2C%20maximum-scale%3D1.0%2C%20user-scalable%3Dno%22%20/%3E%0A%20%20%20%20%20%20%20%20%20%20%20%20%3Cstyle%3E%0A%20%20%20%20%20%20%20%20%20%20%20%20%20%20%20%20%23map_f06ecf54af1244169c27c164f7712632%20%7B%0A%20%20%20%20%20%20%20%20%20%20%20%20%20%20%20%20%20%20%20%20position%3A%20relative%3B%0A%20%20%20%20%20%20%20%20%20%20%20%20%20%20%20%20%20%20%20%20width%3A%20100.0%25%3B%0A%20%20%20%20%20%20%20%20%20%20%20%20%20%20%20%20%20%20%20%20height%3A%20100.0%25%3B%0A%20%20%20%20%20%20%20%20%20%20%20%20%20%20%20%20%20%20%20%20left%3A%200.0%25%3B%0A%20%20%20%20%20%20%20%20%20%20%20%20%20%20%20%20%20%20%20%20top%3A%200.0%25%3B%0A%20%20%20%20%20%20%20%20%20%20%20%20%20%20%20%20%7D%0A%20%20%20%20%20%20%20%20%20%20%20%20%3C/style%3E%0A%20%20%20%20%20%20%20%20%0A%3C/head%3E%0A%3Cbody%3E%20%20%20%20%0A%20%20%20%20%0A%20%20%20%20%20%20%20%20%20%20%20%20%3Cdiv%20class%3D%22folium-map%22%20id%3D%22map_f06ecf54af1244169c27c164f7712632%22%20%3E%3C/div%3E%0A%20%20%20%20%20%20%20%20%0A%3C/body%3E%0A%3Cscript%3E%20%20%20%20%0A%20%20%20%20%0A%20%20%20%20%20%20%20%20%20%20%20%20var%20map_f06ecf54af1244169c27c164f7712632%20%3D%20L.map%28%0A%20%20%20%20%20%20%20%20%20%20%20%20%20%20%20%20%22map_f06ecf54af1244169c27c164f7712632%22%2C%0A%20%20%20%20%20%20%20%20%20%20%20%20%20%20%20%20%7B%0A%20%20%20%20%20%20%20%20%20%20%20%20%20%20%20%20%20%20%20%20center%3A%20%5B31.5%2C%2034.4%5D%2C%0A%20%20%20%20%20%20%20%20%20%20%20%20%20%20%20%20%20%20%20%20crs%3A%20L.CRS.EPSG3857%2C%0A%20%20%20%20%20%20%20%20%20%20%20%20%20%20%20%20%20%20%20%20zoom%3A%2010%2C%0A%20%20%20%20%20%20%20%20%20%20%20%20%20%20%20%20%20%20%20%20zoomControl%3A%20true%2C%0A%20%20%20%20%20%20%20%20%20%20%20%20%20%20%20%20%20%20%20%20preferCanvas%3A%20false%2C%0A%20%20%20%20%20%20%20%20%20%20%20%20%20%20%20%20%7D%0A%20%20%20%20%20%20%20%20%20%20%20%20%29%3B%0A%0A%20%20%20%20%20%20%20%20%20%20%20%20%0A%0A%20%20%20%20%20%20%20%20%0A%20%20%20%20%0A%20%20%20%20%20%20%20%20%20%20%20%20var%20tile_layer_b68116ee3cd24887852d054fc417c8eb%20%3D%20L.tileLayer%28%0A%20%20%20%20%20%20%20%20%20%20%20%20%20%20%20%20%22https%3A//%7Bs%7D.tile.openstreetmap.org/%7Bz%7D/%7Bx%7D/%7By%7D.png%22%2C%0A%20%20%20%20%20%20%20%20%20%20%20%20%20%20%20%20%7B%22attribution%22%3A%20%22Data%20by%20%5Cu0026copy%3B%20%5Cu003ca%20href%3D%5C%22http%3A//openstreetmap.org%5C%22%5Cu003eOpenStreetMap%5Cu003c/a%5Cu003e%2C%20under%20%5Cu003ca%20href%3D%5C%22http%3A//www.openstreetmap.org/copyright%5C%22%5Cu003eODbL%5Cu003c/a%5Cu003e.%22%2C%20%22detectRetina%22%3A%20false%2C%20%22maxNativeZoom%22%3A%2018%2C%20%22maxZoom%22%3A%2018%2C%20%22minZoom%22%3A%200%2C%20%22noWrap%22%3A%20false%2C%20%22opacity%22%3A%201%2C%20%22subdomains%22%3A%20%22abc%22%2C%20%22tms%22%3A%20false%7D%0A%20%20%20%20%20%20%20%20%20%20%20%20%29.addTo%28map_f06ecf54af1244169c27c164f7712632%29%3B%0A%20%20%20%20%20%20%20%20%0A%20%20%20%20%0A%0A%20%20%20%20%20%20%20%20function%20geo_json_5e3f2ffc29e94f15a499fa7c483cfc34_onEachFeature%28feature%2C%20layer%29%20%7B%0A%20%20%20%20%20%20%20%20%20%20%20%20layer.on%28%7B%0A%20%20%20%20%20%20%20%20%20%20%20%20%7D%29%3B%0A%20%20%20%20%20%20%20%20%7D%3B%0A%20%20%20%20%20%20%20%20var%20geo_json_5e3f2ffc29e94f15a499fa7c483cfc34%20%3D%20L.geoJson%28null%2C%20%7B%0A%20%20%20%20%20%20%20%20%20%20%20%20%20%20%20%20onEachFeature%3A%20geo_json_5e3f2ffc29e94f15a499fa7c483cfc34_onEachFeature%2C%0A%20%20%20%20%20%20%20%20%20%20%20%20%0A%20%20%20%20%20%20%20%20%7D%29%3B%0A%0A%20%20%20%20%20%20%20%20function%20geo_json_5e3f2ffc29e94f15a499fa7c483cfc34_add%20%28data%29%20%7B%0A%20%20%20%20%20%20%20%20%20%20%20%20geo_json_5e3f2ffc29e94f15a499fa7c483cfc34%0A%20%20%20%20%20%20%20%20%20%20%20%20%20%20%20%20.addData%28data%29%0A%20%20%20%20%20%20%20%20%20%20%20%20%20%20%20%20.addTo%28map_f06ecf54af1244169c27c164f7712632%29%3B%0A%20%20%20%20%20%20%20%20%7D%0A%20%20%20%20%20%20%20%20%20%20%20%20geo_json_5e3f2ffc29e94f15a499fa7c483cfc34_add%28%7B%22crs%22%3A%20%7B%22properties%22%3A%20%7B%22name%22%3A%20%22urn%3Aogc%3Adef%3Acrs%3AOGC%3A1.3%3ACRS84%22%7D%2C%20%22type%22%3A%20%22name%22%7D%2C%20%22features%22%3A%20%5B%7B%22geometry%22%3A%20%7B%22coordinates%22%3A%20%5B%5B%5B34.21877333400005%2C%2031.22436831300007%5D%2C%20%5B34.56802376500008%2C%2031.22436831300007%5D%2C%20%5B34.56802376500008%2C%2031.59491934600004%5D%2C%20%5B34.21877333400005%2C%2031.59491934600004%5D%2C%20%5B34.21877333400005%2C%2031.22436831300007%5D%5D%5D%2C%20%22type%22%3A%20%22Polygon%22%7D%2C%20%22properties%22%3A%20%7B%22AREA%22%3A%200.12941510798274575%2C%20%22CNTX%22%3A%2034.39339854950006%2C%20%22CNTY%22%3A%2031.409643829500055%2C%20%22HEIGHT%22%3A%200.3705510329999697%2C%20%22MAXX%22%3A%2034.56802376500008%2C%20%22MAXY%22%3A%2031.59491934600004%2C%20%22MINX%22%3A%2034.21877333400005%2C%20%22MINY%22%3A%2031.22436831300007%2C%20%22PERIM%22%3A%201.439602928%2C%20%22WIDTH%22%3A%200.34925043100002995%7D%2C%20%22type%22%3A%20%22Feature%22%7D%5D%2C%20%22name%22%3A%20%22GazaStripAdminBoundaryExtent%22%2C%20%22type%22%3A%20%22FeatureCollection%22%7D%29%3B%0A%0A%20%20%20%20%20%20%20%20%0A%3C/script%3E onload=\"this.contentDocument.open();this.contentDocument.write(    decodeURIComponent(this.getAttribute('data-html')));this.contentDocument.close();\" allowfullscreen webkitallowfullscreen mozallowfullscreen></iframe></div></div>"
      ],
      "text/plain": [
       "<folium.folium.Map at 0x27b7f1afbc8>"
      ]
     },
     "execution_count": 3,
     "metadata": {},
     "output_type": "execute_result"
    }
   ],
   "source": [
    "m = folium.Map([31.5, 34.4], zoom_start=10)\n",
    "boundsdata = r'../Data/Shapefile/GazaStripAdminBoundaryExtent.geojson'\n",
    "folium.GeoJson(boundsdata).add_to(m)\n",
    "m"
   ]
  },
  {
   "cell_type": "code",
   "execution_count": 4,
   "id": "d06771cf-0d7a-4af0-bf6c-155edbc6a28f",
   "metadata": {},
   "outputs": [],
   "source": [
    "# connect to the API\n",
    "api = SentinelAPI('adivicco', '354sedut@', 'https://scihub.copernicus.eu/dhus')"
   ]
  },
  {
   "cell_type": "markdown",
   "id": "e404df02-b928-4a47-827f-81d994627d6e",
   "metadata": {},
   "source": [
    "## Resource for Search Parameters\n",
    "https://scihub.copernicus.eu/userguide/FullTextSearch"
   ]
  },
  {
   "cell_type": "code",
   "execution_count": 5,
   "id": "f98eafe5-1b79-4af2-b577-d4797b7001fb",
   "metadata": {},
   "outputs": [],
   "source": [
    "# search by polygon, time, and SciHub query keywords\n",
    "footprint = geojson_to_wkt(read_geojson('../Data/Shapefile/GazaStripAdminBoundaryExtent.geojson'))\n",
    "products_s1 = api.query(footprint,\n",
    "                     date=(date(2021, 5, 13), date(2021, 5, 15)),\n",
    "                     platformname='Sentinel-1',\n",
    "                     producttype = 'SLC',\n",
    "                     sensoroperationalmode= 'IW')\n",
    "\n",
    "products_s2 = api.query(footprint,\n",
    "                     date=(date(2021, 5, 20), date(2021, 5, 29)),\n",
    "                     platformname='Sentinel-2',\n",
    "                     producttype = 'S2MSI2A',\n",
    "                     cloudcoverpercentage=(0, 5))\n",
    "\n",
    "# convert to Pandas DataFrame\n",
    "s1_products_df = api.to_dataframe(products_s1)\n",
    "s2_products_df = api.to_dataframe(products_s2)\n",
    "\n",
    "# print(footprint)\n",
    "# Number of images found based on the search parameters\n",
    "# print(len(products_s1.keys()))"
   ]
  },
  {
   "cell_type": "code",
   "execution_count": 6,
   "id": "1da0e0fe-e544-4ac9-bc63-a766ed68c7f7",
   "metadata": {},
   "outputs": [
    {
     "data": {
      "text/plain": [
       "Index(['title', 'link', 'link_alternative', 'link_icon', 'summary', 'ondemand',\n",
       "       'beginposition', 'endposition', 'ingestiondate', 'missiondatatakeid',\n",
       "       'orbitnumber', 'lastorbitnumber', 'relativeorbitnumber',\n",
       "       'lastrelativeorbitnumber', 'slicenumber', 'filename', 'format',\n",
       "       'identifier', 'size', 'status', 'timeliness', 'sensoroperationalmode',\n",
       "       'swathidentifier', 'orbitdirection', 'producttype', 'platformname',\n",
       "       'platformidentifier', 'instrumentname', 'instrumentshortname',\n",
       "       'productclass', 'polarisationmode', 'acquisitiontype', 'gmlfootprint',\n",
       "       'footprint', 'uuid'],\n",
       "      dtype='object')"
      ]
     },
     "execution_count": 6,
     "metadata": {},
     "output_type": "execute_result"
    }
   ],
   "source": [
    "s1_products_df.columns"
   ]
  },
  {
   "cell_type": "code",
   "execution_count": 7,
   "id": "9e90289d-5ff5-4349-8692-9a2e7683e2a4",
   "metadata": {},
   "outputs": [
    {
     "data": {
      "text/plain": [
       "Index(['title', 'link', 'link_alternative', 'link_icon', 'summary', 'ondemand',\n",
       "       'generationdate', 'beginposition', 'endposition', 'ingestiondate',\n",
       "       'orbitnumber', 'relativeorbitnumber', 'illuminationazimuthangle',\n",
       "       'illuminationzenithangle', 'vegetationpercentage',\n",
       "       'notvegetatedpercentage', 'waterpercentage', 'unclassifiedpercentage',\n",
       "       'mediumprobacloudspercentage', 'highprobacloudspercentage',\n",
       "       'snowicepercentage', 'cloudcoverpercentage', 'level1cpdiidentifier',\n",
       "       'gmlfootprint', 'footprint', 'format', 'processingbaseline',\n",
       "       'platformname', 'filename', 'instrumentname', 'instrumentshortname',\n",
       "       'size', 's2datatakeid', 'producttype', 'platformidentifier',\n",
       "       'orbitdirection', 'platformserialidentifier', 'processinglevel',\n",
       "       'datastripidentifier', 'granuleidentifier', 'identifier', 'uuid'],\n",
       "      dtype='object')"
      ]
     },
     "execution_count": 7,
     "metadata": {},
     "output_type": "execute_result"
    }
   ],
   "source": [
    "s2_products_df.columns"
   ]
  },
  {
   "cell_type": "code",
   "execution_count": 6,
   "id": "a42c098b-4263-4dc4-ae56-c9e4140158a8",
   "metadata": {},
   "outputs": [
    {
     "name": "stdout",
     "output_type": "stream",
     "text": [
      "3 Sentinel-1 Images Found.\n",
      "4 Sentinel-2 Images Found.\n"
     ]
    }
   ],
   "source": [
    "print(f'{len(s1_products_df)} Sentinel-1 Images Found.')\n",
    "print(f'{len(s2_products_df)} Sentinel-2 Images Found.')"
   ]
  },
  {
   "cell_type": "code",
   "execution_count": 9,
   "id": "f5d02840-b33a-409e-a5eb-289333ed9852",
   "metadata": {},
   "outputs": [
    {
     "name": "stderr",
     "output_type": "stream",
     "text": [
      "C:\\Users\\Work\\anaconda3\\envs\\geo_env\\lib\\site-packages\\pyproj\\crs\\crs.py:53: FutureWarning: '+init=<authority>:<code>' syntax is deprecated. '<authority>:<code>' is the preferred initialization method. When making the change, be mindful of axis order changes: https://pyproj4.github.io/pyproj/stable/gotchas.html#axis-order-changes-in-proj-6\n",
      "  return _prepare_from_string(\" \".join(pjargs))\n"
     ]
    }
   ],
   "source": [
    "areas_s1 = api.to_geodataframe(products_s1)\n",
    "areas_s2 = api.to_geodataframe(products_s2)"
   ]
  },
  {
   "cell_type": "code",
   "execution_count": 14,
   "id": "3af8d4a9-aa58-48d4-b858-aa4a66775700",
   "metadata": {},
   "outputs": [
    {
     "name": "stderr",
     "output_type": "stream",
     "text": [
      "C:\\Users\\Work\\anaconda3\\envs\\geo_env\\lib\\site-packages\\ipykernel_launcher.py:3: MatplotlibDeprecationWarning: The 's' parameter of annotate() has been renamed 'text' since Matplotlib 3.3; support for the old name will be dropped two minor releases later.\n",
      "  This is separate from the ipykernel package so we can avoid doing imports until\n",
      "C:\\Users\\Work\\anaconda3\\envs\\geo_env\\lib\\site-packages\\ipykernel_launcher.py:4: MatplotlibDeprecationWarning: The 's' parameter of annotate() has been renamed 'text' since Matplotlib 3.3; support for the old name will be dropped two minor releases later.\n",
      "  after removing the cwd from sys.path.\n"
     ]
    },
    {
     "data": {
      "text/plain": [
       "<AxesSubplot:>"
      ]
     },
     "execution_count": 14,
     "metadata": {},
     "output_type": "execute_result"
    },
    {
     "data": {
      "image/png": "[encoded data removed]",
      "text/plain": [
       "<Figure size 1800x864 with 1 Axes>"
      ]
     },
     "metadata": {
      "needs_background": "light"
     },
     "output_type": "display_data"
    }
   ],
   "source": [
    "fig, ax = plt.subplots(figsize=(25,12))\n",
    "areas_s1[:].plot(column='uuid', cmap=None, ax=ax, alpha=0.4)\n",
    "areas_s1[:].apply(lambda x: ax.annotate(s=x.uuid, xy=x.geometry.centroid.coords[0], va='top', ha='center'),axis=1)\n",
    "areas_s1[:].apply(lambda x: ax.annotate(s=x.ingestiondate, xy=x.geometry.centroid.coords[0], va='bottom', ha='center'),axis=1)\n",
    "gdf.plot(ax=ax, alpha=0.25)"
   ]
  },
  {
   "cell_type": "code",
   "execution_count": 11,
   "id": "2738b1af-0cf7-42ad-a099-fed8b019a34c",
   "metadata": {},
   "outputs": [
    {
     "name": "stderr",
     "output_type": "stream",
     "text": [
      "C:\\Users\\Work\\anaconda3\\envs\\geo_env\\lib\\site-packages\\ipykernel_launcher.py:3: MatplotlibDeprecationWarning: The 's' parameter of annotate() has been renamed 'text' since Matplotlib 3.3; support for the old name will be dropped two minor releases later.\n",
      "  This is separate from the ipykernel package so we can avoid doing imports until\n",
      "C:\\Users\\Work\\anaconda3\\envs\\geo_env\\lib\\site-packages\\ipykernel_launcher.py:4: MatplotlibDeprecationWarning: The 's' parameter of annotate() has been renamed 'text' since Matplotlib 3.3; support for the old name will be dropped two minor releases later.\n",
      "  after removing the cwd from sys.path.\n"
     ]
    },
    {
     "data": {
      "text/plain": [
       "<AxesSubplot:>"
      ]
     },
     "execution_count": 11,
     "metadata": {},
     "output_type": "execute_result"
    },
    {
     "data": {
      "image/png": "[encoded data removed]",
      "text/plain": [
       "<Figure size 1800x864 with 1 Axes>"
      ]
     },
     "metadata": {
      "needs_background": "light"
     },
     "output_type": "display_data"
    }
   ],
   "source": [
    "fig, ax = plt.subplots(figsize=(25,12))\n",
    "areas_s2[:2].plot(column='uuid', cmap=None, ax=ax, alpha=0.4)\n",
    "areas_s2[:2].apply(lambda x: ax.annotate(s=x.uuid, xy=x.geometry.centroid.coords[0], va='top', ha='center'),axis=1)\n",
    "areas_s2[:2].apply(lambda x: ax.annotate(s=x.ingestiondate, xy=x.geometry.centroid.coords[0], va='bottom', ha='center'),axis=1)\n",
    "gdf.plot(ax=ax, alpha=0.25)"
   ]
  },
  {
   "cell_type": "code",
   "execution_count": 12,
   "id": "baf4b136-c501-4512-afa9-fb82148d6f0b",
   "metadata": {},
   "outputs": [
    {
     "data": {
      "text/html": [
       "<div>\n",
       "<style scoped>\n",
       "    .dataframe tbody tr th:only-of-type {\n",
       "        vertical-align: middle;\n",
       "    }\n",
       "\n",
       "    .dataframe tbody tr th {\n",
       "        vertical-align: top;\n",
       "    }\n",
       "\n",
       "    .dataframe thead th {\n",
       "        text-align: right;\n",
       "    }\n",
       "</style>\n",
       "<table border=\"1\" class=\"dataframe\">\n",
       "  <thead>\n",
       "    <tr style=\"text-align: right;\">\n",
       "      <th></th>\n",
       "      <th>cloudcoverpercentage</th>\n",
       "      <th>ingestiondate</th>\n",
       "    </tr>\n",
       "  </thead>\n",
       "  <tbody>\n",
       "    <tr>\n",
       "      <th>f68a9c82-e308-4f24-a725-62d48121c69c</th>\n",
       "      <td>0.770605</td>\n",
       "      <td>2021-05-25 15:41:57.161</td>\n",
       "    </tr>\n",
       "    <tr>\n",
       "      <th>cc447968-a42c-49b0-a4f1-08936b64ca6b</th>\n",
       "      <td>0.206784</td>\n",
       "      <td>2021-05-25 15:35:12.308</td>\n",
       "    </tr>\n",
       "    <tr>\n",
       "      <th>0031aafc-7c8e-45f2-9dbc-08014958fd3c</th>\n",
       "      <td>0.301416</td>\n",
       "      <td>2021-05-20 15:14:47.372</td>\n",
       "    </tr>\n",
       "    <tr>\n",
       "      <th>2dc350ce-c92a-491b-96cc-aa055ddd0a59</th>\n",
       "      <td>0.875624</td>\n",
       "      <td>2021-05-20 15:13:40.668</td>\n",
       "    </tr>\n",
       "  </tbody>\n",
       "</table>\n",
       "</div>"
      ],
      "text/plain": [
       "                                      cloudcoverpercentage  \\\n",
       "f68a9c82-e308-4f24-a725-62d48121c69c              0.770605   \n",
       "cc447968-a42c-49b0-a4f1-08936b64ca6b              0.206784   \n",
       "0031aafc-7c8e-45f2-9dbc-08014958fd3c              0.301416   \n",
       "2dc350ce-c92a-491b-96cc-aa055ddd0a59              0.875624   \n",
       "\n",
       "                                               ingestiondate  \n",
       "f68a9c82-e308-4f24-a725-62d48121c69c 2021-05-25 15:41:57.161  \n",
       "cc447968-a42c-49b0-a4f1-08936b64ca6b 2021-05-25 15:35:12.308  \n",
       "0031aafc-7c8e-45f2-9dbc-08014958fd3c 2021-05-20 15:14:47.372  \n",
       "2dc350ce-c92a-491b-96cc-aa055ddd0a59 2021-05-20 15:13:40.668  "
      ]
     },
     "execution_count": 12,
     "metadata": {},
     "output_type": "execute_result"
    }
   ],
   "source": [
    "areas_s2[['cloudcoverpercentage','ingestiondate']]"
   ]
  },
  {
   "cell_type": "code",
   "execution_count": 72,
   "id": "461ef737-880d-40f9-98f8-68f26b2e5b7c",
   "metadata": {},
   "outputs": [
    {
     "data": {
      "text/html": [
       "<div>\n",
       "<style scoped>\n",
       "    .dataframe tbody tr th:only-of-type {\n",
       "        vertical-align: middle;\n",
       "    }\n",
       "\n",
       "    .dataframe tbody tr th {\n",
       "        vertical-align: top;\n",
       "    }\n",
       "\n",
       "    .dataframe thead th {\n",
       "        text-align: right;\n",
       "    }\n",
       "</style>\n",
       "<table border=\"1\" class=\"dataframe\">\n",
       "  <thead>\n",
       "    <tr style=\"text-align: right;\">\n",
       "      <th></th>\n",
       "      <th>title</th>\n",
       "      <th>link</th>\n",
       "      <th>link_alternative</th>\n",
       "      <th>link_icon</th>\n",
       "      <th>summary</th>\n",
       "      <th>ondemand</th>\n",
       "      <th>beginposition</th>\n",
       "      <th>endposition</th>\n",
       "      <th>ingestiondate</th>\n",
       "      <th>missiondatatakeid</th>\n",
       "      <th>...</th>\n",
       "      <th>producttype</th>\n",
       "      <th>platformname</th>\n",
       "      <th>platformidentifier</th>\n",
       "      <th>instrumentname</th>\n",
       "      <th>instrumentshortname</th>\n",
       "      <th>productclass</th>\n",
       "      <th>polarisationmode</th>\n",
       "      <th>acquisitiontype</th>\n",
       "      <th>uuid</th>\n",
       "      <th>geometry</th>\n",
       "    </tr>\n",
       "  </thead>\n",
       "  <tbody>\n",
       "    <tr>\n",
       "      <th>2bb799fe-3dff-46c1-8f60-33db321d42da</th>\n",
       "      <td>S1B_IW_SLC__1SDV_20210502T034345_20210502T0344...</td>\n",
       "      <td>https://scihub.copernicus.eu/dhus/odata/v1/Pro...</td>\n",
       "      <td>https://scihub.copernicus.eu/dhus/odata/v1/Pro...</td>\n",
       "      <td>https://scihub.copernicus.eu/dhus/odata/v1/Pro...</td>\n",
       "      <td>Date: 2021-05-02T03:43:45.627Z, Instrument: SA...</td>\n",
       "      <td>false</td>\n",
       "      <td>2021-05-02 03:43:45.627</td>\n",
       "      <td>2021-05-02 03:44:12.713</td>\n",
       "      <td>2021-05-02 08:21:28.491</td>\n",
       "      <td>209169</td>\n",
       "      <td>...</td>\n",
       "      <td>SLC</td>\n",
       "      <td>Sentinel-1</td>\n",
       "      <td>2016-025A</td>\n",
       "      <td>Synthetic Aperture Radar (C-band)</td>\n",
       "      <td>SAR-C SAR</td>\n",
       "      <td>S</td>\n",
       "      <td>VV VH</td>\n",
       "      <td>NOMINAL</td>\n",
       "      <td>2bb799fe-3dff-46c1-8f60-33db321d42da</td>\n",
       "      <td>MULTIPOLYGON (((34.93588 29.92803, 35.30353 31...</td>\n",
       "    </tr>\n",
       "  </tbody>\n",
       "</table>\n",
       "<p>1 rows × 34 columns</p>\n",
       "</div>"
      ],
      "text/plain": [
       "                                                                                  title  \\\n",
       "2bb799fe-3dff-46c1-8f60-33db321d42da  S1B_IW_SLC__1SDV_20210502T034345_20210502T0344...   \n",
       "\n",
       "                                                                                   link  \\\n",
       "2bb799fe-3dff-46c1-8f60-33db321d42da  https://scihub.copernicus.eu/dhus/odata/v1/Pro...   \n",
       "\n",
       "                                                                       link_alternative  \\\n",
       "2bb799fe-3dff-46c1-8f60-33db321d42da  https://scihub.copernicus.eu/dhus/odata/v1/Pro...   \n",
       "\n",
       "                                                                              link_icon  \\\n",
       "2bb799fe-3dff-46c1-8f60-33db321d42da  https://scihub.copernicus.eu/dhus/odata/v1/Pro...   \n",
       "\n",
       "                                                                                summary  \\\n",
       "2bb799fe-3dff-46c1-8f60-33db321d42da  Date: 2021-05-02T03:43:45.627Z, Instrument: SA...   \n",
       "\n",
       "                                     ondemand           beginposition  \\\n",
       "2bb799fe-3dff-46c1-8f60-33db321d42da    false 2021-05-02 03:43:45.627   \n",
       "\n",
       "                                                 endposition  \\\n",
       "2bb799fe-3dff-46c1-8f60-33db321d42da 2021-05-02 03:44:12.713   \n",
       "\n",
       "                                               ingestiondate  \\\n",
       "2bb799fe-3dff-46c1-8f60-33db321d42da 2021-05-02 08:21:28.491   \n",
       "\n",
       "                                      missiondatatakeid  ...  producttype  \\\n",
       "2bb799fe-3dff-46c1-8f60-33db321d42da             209169  ...          SLC   \n",
       "\n",
       "                                      platformname  platformidentifier  \\\n",
       "2bb799fe-3dff-46c1-8f60-33db321d42da    Sentinel-1           2016-025A   \n",
       "\n",
       "                                                         instrumentname  \\\n",
       "2bb799fe-3dff-46c1-8f60-33db321d42da  Synthetic Aperture Radar (C-band)   \n",
       "\n",
       "                                      instrumentshortname productclass  \\\n",
       "2bb799fe-3dff-46c1-8f60-33db321d42da            SAR-C SAR            S   \n",
       "\n",
       "                                     polarisationmode acquisitiontype  \\\n",
       "2bb799fe-3dff-46c1-8f60-33db321d42da            VV VH         NOMINAL   \n",
       "\n",
       "                                                                      uuid  \\\n",
       "2bb799fe-3dff-46c1-8f60-33db321d42da  2bb799fe-3dff-46c1-8f60-33db321d42da   \n",
       "\n",
       "                                                                               geometry  \n",
       "2bb799fe-3dff-46c1-8f60-33db321d42da  MULTIPOLYGON (((34.93588 29.92803, 35.30353 31...  \n",
       "\n",
       "[1 rows x 34 columns]"
      ]
     },
     "execution_count": 72,
     "metadata": {},
     "output_type": "execute_result"
    }
   ],
   "source": [
    "areas_s1[areas_s1.uuid == '2bb799fe-3dff-46c1-8f60-33db321d42da']"
   ]
  },
  {
   "cell_type": "code",
   "execution_count": 15,
   "id": "2cccde1e-520c-4a46-96bb-35b73892e0a6",
   "metadata": {},
   "outputs": [
    {
     "data": {
      "text/html": [
       "<div>\n",
       "<style scoped>\n",
       "    .dataframe tbody tr th:only-of-type {\n",
       "        vertical-align: middle;\n",
       "    }\n",
       "\n",
       "    .dataframe tbody tr th {\n",
       "        vertical-align: top;\n",
       "    }\n",
       "\n",
       "    .dataframe thead th {\n",
       "        text-align: right;\n",
       "    }\n",
       "</style>\n",
       "<table border=\"1\" class=\"dataframe\">\n",
       "  <thead>\n",
       "    <tr style=\"text-align: right;\">\n",
       "      <th></th>\n",
       "      <th>title</th>\n",
       "      <th>link</th>\n",
       "      <th>link_alternative</th>\n",
       "      <th>link_icon</th>\n",
       "      <th>summary</th>\n",
       "      <th>ondemand</th>\n",
       "      <th>beginposition</th>\n",
       "      <th>endposition</th>\n",
       "      <th>ingestiondate</th>\n",
       "      <th>missiondatatakeid</th>\n",
       "      <th>...</th>\n",
       "      <th>producttype</th>\n",
       "      <th>platformname</th>\n",
       "      <th>platformidentifier</th>\n",
       "      <th>instrumentname</th>\n",
       "      <th>instrumentshortname</th>\n",
       "      <th>productclass</th>\n",
       "      <th>polarisationmode</th>\n",
       "      <th>acquisitiontype</th>\n",
       "      <th>uuid</th>\n",
       "      <th>geometry</th>\n",
       "    </tr>\n",
       "  </thead>\n",
       "  <tbody>\n",
       "    <tr>\n",
       "      <th>def87aad-7809-45d5-b0bb-c14e149cd5cf</th>\n",
       "      <td>S1B_IW_SLC__1SDV_20210514T034320_20210514T0343...</td>\n",
       "      <td>https://scihub.copernicus.eu/dhus/odata/v1/Pro...</td>\n",
       "      <td>https://scihub.copernicus.eu/dhus/odata/v1/Pro...</td>\n",
       "      <td>https://scihub.copernicus.eu/dhus/odata/v1/Pro...</td>\n",
       "      <td>Date: 2021-05-14T03:43:20.712Z, Instrument: SA...</td>\n",
       "      <td>false</td>\n",
       "      <td>2021-05-14 03:43:20.712</td>\n",
       "      <td>2021-05-14 03:43:48.655</td>\n",
       "      <td>2021-05-14 08:09:37.881</td>\n",
       "      <td>210572</td>\n",
       "      <td>...</td>\n",
       "      <td>SLC</td>\n",
       "      <td>Sentinel-1</td>\n",
       "      <td>2016-025A</td>\n",
       "      <td>Synthetic Aperture Radar (C-band)</td>\n",
       "      <td>SAR-C SAR</td>\n",
       "      <td>S</td>\n",
       "      <td>VV VH</td>\n",
       "      <td>NOMINAL</td>\n",
       "      <td>def87aad-7809-45d5-b0bb-c14e149cd5cf</td>\n",
       "      <td>MULTIPOLYGON (((35.27128 31.42427, 35.65636 33...</td>\n",
       "    </tr>\n",
       "    <tr>\n",
       "      <th>6f7dfcac-5a0b-4526-90e9-9c3ec869e300</th>\n",
       "      <td>S1B_IW_SLC__1SDV_20210514T034346_20210514T0344...</td>\n",
       "      <td>https://scihub.copernicus.eu/dhus/odata/v1/Pro...</td>\n",
       "      <td>https://scihub.copernicus.eu/dhus/odata/v1/Pro...</td>\n",
       "      <td>https://scihub.copernicus.eu/dhus/odata/v1/Pro...</td>\n",
       "      <td>Date: 2021-05-14T03:43:46.392Z, Instrument: SA...</td>\n",
       "      <td>false</td>\n",
       "      <td>2021-05-14 03:43:46.392</td>\n",
       "      <td>2021-05-14 03:44:13.474</td>\n",
       "      <td>2021-05-14 07:24:36.330</td>\n",
       "      <td>210572</td>\n",
       "      <td>...</td>\n",
       "      <td>SLC</td>\n",
       "      <td>Sentinel-1</td>\n",
       "      <td>2016-025A</td>\n",
       "      <td>Synthetic Aperture Radar (C-band)</td>\n",
       "      <td>SAR-C SAR</td>\n",
       "      <td>S</td>\n",
       "      <td>VV VH</td>\n",
       "      <td>NOMINAL</td>\n",
       "      <td>6f7dfcac-5a0b-4526-90e9-9c3ec869e300</td>\n",
       "      <td>MULTIPOLYGON (((34.93452 29.92856, 35.30210 31...</td>\n",
       "    </tr>\n",
       "    <tr>\n",
       "      <th>a4e0f6ff-076b-4725-9575-07a155f687ab</th>\n",
       "      <td>S1B_IW_SLC__1SDV_20210513T153955_20210513T1540...</td>\n",
       "      <td>https://scihub.copernicus.eu/dhus/odata/v1/Pro...</td>\n",
       "      <td>https://scihub.copernicus.eu/dhus/odata/v1/Pro...</td>\n",
       "      <td>https://scihub.copernicus.eu/dhus/odata/v1/Pro...</td>\n",
       "      <td>Date: 2021-05-13T15:39:55.705Z, Instrument: SA...</td>\n",
       "      <td>false</td>\n",
       "      <td>2021-05-13 15:39:55.705</td>\n",
       "      <td>2021-05-13 15:40:22.660</td>\n",
       "      <td>2021-05-13 17:48:55.499</td>\n",
       "      <td>210526</td>\n",
       "      <td>...</td>\n",
       "      <td>SLC</td>\n",
       "      <td>Sentinel-1</td>\n",
       "      <td>2016-025A</td>\n",
       "      <td>Synthetic Aperture Radar (C-band)</td>\n",
       "      <td>SAR-C SAR</td>\n",
       "      <td>S</td>\n",
       "      <td>VV VH</td>\n",
       "      <td>NOMINAL</td>\n",
       "      <td>a4e0f6ff-076b-4725-9575-07a155f687ab</td>\n",
       "      <td>MULTIPOLYGON (((34.24509 30.18979, 36.85876 30...</td>\n",
       "    </tr>\n",
       "  </tbody>\n",
       "</table>\n",
       "<p>3 rows × 34 columns</p>\n",
       "</div>"
      ],
      "text/plain": [
       "                                                                                  title  \\\n",
       "def87aad-7809-45d5-b0bb-c14e149cd5cf  S1B_IW_SLC__1SDV_20210514T034320_20210514T0343...   \n",
       "6f7dfcac-5a0b-4526-90e9-9c3ec869e300  S1B_IW_SLC__1SDV_20210514T034346_20210514T0344...   \n",
       "a4e0f6ff-076b-4725-9575-07a155f687ab  S1B_IW_SLC__1SDV_20210513T153955_20210513T1540...   \n",
       "\n",
       "                                                                                   link  \\\n",
       "def87aad-7809-45d5-b0bb-c14e149cd5cf  https://scihub.copernicus.eu/dhus/odata/v1/Pro...   \n",
       "6f7dfcac-5a0b-4526-90e9-9c3ec869e300  https://scihub.copernicus.eu/dhus/odata/v1/Pro...   \n",
       "a4e0f6ff-076b-4725-9575-07a155f687ab  https://scihub.copernicus.eu/dhus/odata/v1/Pro...   \n",
       "\n",
       "                                                                       link_alternative  \\\n",
       "def87aad-7809-45d5-b0bb-c14e149cd5cf  https://scihub.copernicus.eu/dhus/odata/v1/Pro...   \n",
       "6f7dfcac-5a0b-4526-90e9-9c3ec869e300  https://scihub.copernicus.eu/dhus/odata/v1/Pro...   \n",
       "a4e0f6ff-076b-4725-9575-07a155f687ab  https://scihub.copernicus.eu/dhus/odata/v1/Pro...   \n",
       "\n",
       "                                                                              link_icon  \\\n",
       "def87aad-7809-45d5-b0bb-c14e149cd5cf  https://scihub.copernicus.eu/dhus/odata/v1/Pro...   \n",
       "6f7dfcac-5a0b-4526-90e9-9c3ec869e300  https://scihub.copernicus.eu/dhus/odata/v1/Pro...   \n",
       "a4e0f6ff-076b-4725-9575-07a155f687ab  https://scihub.copernicus.eu/dhus/odata/v1/Pro...   \n",
       "\n",
       "                                                                                summary  \\\n",
       "def87aad-7809-45d5-b0bb-c14e149cd5cf  Date: 2021-05-14T03:43:20.712Z, Instrument: SA...   \n",
       "6f7dfcac-5a0b-4526-90e9-9c3ec869e300  Date: 2021-05-14T03:43:46.392Z, Instrument: SA...   \n",
       "a4e0f6ff-076b-4725-9575-07a155f687ab  Date: 2021-05-13T15:39:55.705Z, Instrument: SA...   \n",
       "\n",
       "                                     ondemand           beginposition  \\\n",
       "def87aad-7809-45d5-b0bb-c14e149cd5cf    false 2021-05-14 03:43:20.712   \n",
       "6f7dfcac-5a0b-4526-90e9-9c3ec869e300    false 2021-05-14 03:43:46.392   \n",
       "a4e0f6ff-076b-4725-9575-07a155f687ab    false 2021-05-13 15:39:55.705   \n",
       "\n",
       "                                                 endposition  \\\n",
       "def87aad-7809-45d5-b0bb-c14e149cd5cf 2021-05-14 03:43:48.655   \n",
       "6f7dfcac-5a0b-4526-90e9-9c3ec869e300 2021-05-14 03:44:13.474   \n",
       "a4e0f6ff-076b-4725-9575-07a155f687ab 2021-05-13 15:40:22.660   \n",
       "\n",
       "                                               ingestiondate  \\\n",
       "def87aad-7809-45d5-b0bb-c14e149cd5cf 2021-05-14 08:09:37.881   \n",
       "6f7dfcac-5a0b-4526-90e9-9c3ec869e300 2021-05-14 07:24:36.330   \n",
       "a4e0f6ff-076b-4725-9575-07a155f687ab 2021-05-13 17:48:55.499   \n",
       "\n",
       "                                      missiondatatakeid  ...  producttype  \\\n",
       "def87aad-7809-45d5-b0bb-c14e149cd5cf             210572  ...          SLC   \n",
       "6f7dfcac-5a0b-4526-90e9-9c3ec869e300             210572  ...          SLC   \n",
       "a4e0f6ff-076b-4725-9575-07a155f687ab             210526  ...          SLC   \n",
       "\n",
       "                                      platformname  platformidentifier  \\\n",
       "def87aad-7809-45d5-b0bb-c14e149cd5cf    Sentinel-1           2016-025A   \n",
       "6f7dfcac-5a0b-4526-90e9-9c3ec869e300    Sentinel-1           2016-025A   \n",
       "a4e0f6ff-076b-4725-9575-07a155f687ab    Sentinel-1           2016-025A   \n",
       "\n",
       "                                                         instrumentname  \\\n",
       "def87aad-7809-45d5-b0bb-c14e149cd5cf  Synthetic Aperture Radar (C-band)   \n",
       "6f7dfcac-5a0b-4526-90e9-9c3ec869e300  Synthetic Aperture Radar (C-band)   \n",
       "a4e0f6ff-076b-4725-9575-07a155f687ab  Synthetic Aperture Radar (C-band)   \n",
       "\n",
       "                                      instrumentshortname productclass  \\\n",
       "def87aad-7809-45d5-b0bb-c14e149cd5cf            SAR-C SAR            S   \n",
       "6f7dfcac-5a0b-4526-90e9-9c3ec869e300            SAR-C SAR            S   \n",
       "a4e0f6ff-076b-4725-9575-07a155f687ab            SAR-C SAR            S   \n",
       "\n",
       "                                     polarisationmode acquisitiontype  \\\n",
       "def87aad-7809-45d5-b0bb-c14e149cd5cf            VV VH         NOMINAL   \n",
       "6f7dfcac-5a0b-4526-90e9-9c3ec869e300            VV VH         NOMINAL   \n",
       "a4e0f6ff-076b-4725-9575-07a155f687ab            VV VH         NOMINAL   \n",
       "\n",
       "                                                                      uuid  \\\n",
       "def87aad-7809-45d5-b0bb-c14e149cd5cf  def87aad-7809-45d5-b0bb-c14e149cd5cf   \n",
       "6f7dfcac-5a0b-4526-90e9-9c3ec869e300  6f7dfcac-5a0b-4526-90e9-9c3ec869e300   \n",
       "a4e0f6ff-076b-4725-9575-07a155f687ab  a4e0f6ff-076b-4725-9575-07a155f687ab   \n",
       "\n",
       "                                                                               geometry  \n",
       "def87aad-7809-45d5-b0bb-c14e149cd5cf  MULTIPOLYGON (((35.27128 31.42427, 35.65636 33...  \n",
       "6f7dfcac-5a0b-4526-90e9-9c3ec869e300  MULTIPOLYGON (((34.93452 29.92856, 35.30210 31...  \n",
       "a4e0f6ff-076b-4725-9575-07a155f687ab  MULTIPOLYGON (((34.24509 30.18979, 36.85876 30...  \n",
       "\n",
       "[3 rows x 34 columns]"
      ]
     },
     "execution_count": 15,
     "metadata": {},
     "output_type": "execute_result"
    }
   ],
   "source": [
    "areas_s1"
   ]
  },
  {
   "cell_type": "code",
   "execution_count": 21,
   "id": "d61ef958-97c8-42a2-acdb-98638836b3b9",
   "metadata": {},
   "outputs": [
    {
     "name": "stderr",
     "output_type": "stream",
     "text": [
      "Downloading:   0%|                                                                         | 0.00/3.79G [00:00<?, ?B/s]\n"
     ]
    },
    {
     "ename": "SentinelAPIError",
     "evalue": "HTTP status 500 Internal Server Error: UnsupportedOperationException : Error creating stream from file /mnt/s1b/dhus/ntc/incoming/x9/x8/S1B_IW_SLC__1SDV_20210514T034346_20210514T034413_026895_03368C_CEF7.zip",
     "output_type": "error",
     "traceback": [
      "\u001b[1;31m---------------------------------------------------------------------------\u001b[0m",
      "\u001b[1;31mSentinelAPIError\u001b[0m                          Traceback (most recent call last)",
      "\u001b[1;32m<ipython-input-21-a0ce1622bb4a>\u001b[0m in \u001b[0;36m<module>\u001b[1;34m\u001b[0m\n\u001b[1;32m----> 1\u001b[1;33m \u001b[0mapi\u001b[0m\u001b[1;33m.\u001b[0m\u001b[0mdownload\u001b[0m\u001b[1;33m(\u001b[0m\u001b[1;34m'6f7dfcac-5a0b-4526-90e9-9c3ec869e300'\u001b[0m\u001b[1;33m,\u001b[0m \u001b[0mdirectory_path\u001b[0m\u001b[1;33m=\u001b[0m\u001b[1;34m'../Data/Sentinel 1/'\u001b[0m\u001b[1;33m)\u001b[0m\u001b[1;33m\u001b[0m\u001b[1;33m\u001b[0m\u001b[0m\n\u001b[0m",
      "\u001b[1;32m~\\anaconda3\\envs\\geo_env\\lib\\site-packages\\sentinelsat\\sentinel.py\u001b[0m in \u001b[0;36mdownload\u001b[1;34m(self, id, directory_path, checksum)\u001b[0m\n\u001b[0;32m    624\u001b[0m             \u001b[1;31m# Store the number of downloaded bytes for unit tests\u001b[0m\u001b[1;33m\u001b[0m\u001b[1;33m\u001b[0m\u001b[1;33m\u001b[0m\u001b[0m\n\u001b[0;32m    625\u001b[0m             product_info[\"downloaded_bytes\"] = self._download(\n\u001b[1;32m--> 626\u001b[1;33m                 \u001b[0mproduct_info\u001b[0m\u001b[1;33m[\u001b[0m\u001b[1;34m\"url\"\u001b[0m\u001b[1;33m]\u001b[0m\u001b[1;33m,\u001b[0m \u001b[0mtemp_path\u001b[0m\u001b[1;33m,\u001b[0m \u001b[0mself\u001b[0m\u001b[1;33m.\u001b[0m\u001b[0msession\u001b[0m\u001b[1;33m,\u001b[0m \u001b[0mproduct_info\u001b[0m\u001b[1;33m[\u001b[0m\u001b[1;34m\"size\"\u001b[0m\u001b[1;33m]\u001b[0m\u001b[1;33m\u001b[0m\u001b[1;33m\u001b[0m\u001b[0m\n\u001b[0m\u001b[0;32m    627\u001b[0m             )\n\u001b[0;32m    628\u001b[0m \u001b[1;33m\u001b[0m\u001b[0m\n",
      "\u001b[1;32m~\\anaconda3\\envs\\geo_env\\lib\\site-packages\\sentinelsat\\sentinel.py\u001b[0m in \u001b[0;36m_download\u001b[1;34m(self, url, path, session, file_size)\u001b[0m\n\u001b[0;32m   1109\u001b[0m             )\n\u001b[0;32m   1110\u001b[0m         ) as progress:\n\u001b[1;32m-> 1111\u001b[1;33m             \u001b[0m_check_scihub_response\u001b[0m\u001b[1;33m(\u001b[0m\u001b[0mr\u001b[0m\u001b[1;33m,\u001b[0m \u001b[0mtest_json\u001b[0m\u001b[1;33m=\u001b[0m\u001b[1;32mFalse\u001b[0m\u001b[1;33m)\u001b[0m\u001b[1;33m\u001b[0m\u001b[1;33m\u001b[0m\u001b[0m\n\u001b[0m\u001b[0;32m   1112\u001b[0m             \u001b[0mchunk_size\u001b[0m \u001b[1;33m=\u001b[0m \u001b[1;36m2\u001b[0m \u001b[1;33m**\u001b[0m \u001b[1;36m20\u001b[0m  \u001b[1;31m# download in 1 MB chunks\u001b[0m\u001b[1;33m\u001b[0m\u001b[1;33m\u001b[0m\u001b[0m\n\u001b[0;32m   1113\u001b[0m             \u001b[0mmode\u001b[0m \u001b[1;33m=\u001b[0m \u001b[1;34m\"ab\"\u001b[0m \u001b[1;32mif\u001b[0m \u001b[0mcontinuing\u001b[0m \u001b[1;32melse\u001b[0m \u001b[1;34m\"wb\"\u001b[0m\u001b[1;33m\u001b[0m\u001b[1;33m\u001b[0m\u001b[0m\n",
      "\u001b[1;32m~\\anaconda3\\envs\\geo_env\\lib\\site-packages\\sentinelsat\\sentinel.py\u001b[0m in \u001b[0;36m_check_scihub_response\u001b[1;34m(response, test_json)\u001b[0m\n\u001b[0;32m   1318\u001b[0m         \u001b[1;31m# See PEP 409\u001b[0m\u001b[1;33m\u001b[0m\u001b[1;33m\u001b[0m\u001b[1;33m\u001b[0m\u001b[0m\n\u001b[0;32m   1319\u001b[0m         \u001b[0mapi_error\u001b[0m\u001b[1;33m.\u001b[0m\u001b[0m__cause__\u001b[0m \u001b[1;33m=\u001b[0m \u001b[1;32mNone\u001b[0m\u001b[1;33m\u001b[0m\u001b[1;33m\u001b[0m\u001b[0m\n\u001b[1;32m-> 1320\u001b[1;33m         \u001b[1;32mraise\u001b[0m \u001b[0mapi_error\u001b[0m\u001b[1;33m\u001b[0m\u001b[1;33m\u001b[0m\u001b[0m\n\u001b[0m\u001b[0;32m   1321\u001b[0m \u001b[1;33m\u001b[0m\u001b[0m\n\u001b[0;32m   1322\u001b[0m \u001b[1;33m\u001b[0m\u001b[0m\n",
      "\u001b[1;31mSentinelAPIError\u001b[0m: HTTP status 500 Internal Server Error: UnsupportedOperationException : Error creating stream from file /mnt/s1b/dhus/ntc/incoming/x9/x8/S1B_IW_SLC__1SDV_20210514T034346_20210514T034413_026895_03368C_CEF7.zip"
     ]
    }
   ],
   "source": [
    "api.download('6f7dfcac-5a0b-4526-90e9-9c3ec869e300', directory_path='../Data/Sentinel 1/')"
   ]
  },
  {
   "cell_type": "code",
   "execution_count": 13,
   "id": "37e3d695-b193-4544-8873-6c263a1b2c4c",
   "metadata": {},
   "outputs": [
    {
     "name": "stderr",
     "output_type": "stream",
     "text": [
      "Downloading: 100%|█████████████████████████████████████████████████████████████████| 1.19G/1.19G [32:27<00:00, 613kB/s]\n",
      "MD5 checksumming: 100%|████████████████████████████████████████████████████████████| 1.19G/1.19G [00:02<00:00, 418MB/s]\n"
     ]
    },
    {
     "data": {
      "text/plain": [
       "{'id': 'cc447968-a42c-49b0-a4f1-08936b64ca6b',\n",
       " 'title': 'S2B_MSIL2A_20210525T081609_N0300_R121_T36RXV_20210525T105614',\n",
       " 'size': 1194536841,\n",
       " 'md5': 'cd58645868edab35fa0ac3e283790023',\n",
       " 'date': datetime.datetime(2021, 5, 25, 8, 16, 9, 24000),\n",
       " 'footprint': 'POLYGON((34.05447525679676 31.631192629547044,35.21174616651892 31.616388568048713,35.188893316618305 30.62639025841939,34.0435716602511 30.640630141284124,34.05447525679676 31.631192629547044))',\n",
       " 'url': \"https://scihub.copernicus.eu/dhus/odata/v1/Products('cc447968-a42c-49b0-a4f1-08936b64ca6b')/$value\",\n",
       " 'Online': True,\n",
       " 'Creation Date': datetime.datetime(2021, 5, 25, 15, 35, 57, 846000),\n",
       " 'Ingestion Date': datetime.datetime(2021, 5, 25, 15, 35, 12, 308000),\n",
       " 'path': '../Data/Sentinel 2/S2B_MSIL2A_20210525T081609_N0300_R121_T36RXV_20210525T105614.zip',\n",
       " 'downloaded_bytes': 1194536841}"
      ]
     },
     "execution_count": 13,
     "metadata": {},
     "output_type": "execute_result"
    }
   ],
   "source": [
    "# api.download('64284c54-a6c3-4249-b9dc-8c081766afe8', directory_path='../Data/Sentinel 2/') # Before\n",
    "api.download('cc447968-a42c-49b0-a4f1-08936b64ca6b', directory_path='../Data/Sentinel 2/') # After May 25"
   ]
  },
  {
   "cell_type": "markdown",
   "id": "bbd43146-64bd-49ea-b882-8c9976de6ba1",
   "metadata": {},
   "source": [
    "### Extract contents from the downloaded zip file"
   ]
  },
  {
   "cell_type": "code",
   "execution_count": 107,
   "id": "4a32ae9a-e047-40e8-9e1f-ef71b68b83bc",
   "metadata": {},
   "outputs": [],
   "source": [
    "path_to_zip = r'../Mumbai/Raw/S2B_MSIL2A_20210417T053639_N0300_R005_T43QBB_20210417T083635.zip'\n",
    "zip_ref = zipfile.ZipFile(path_to_zip, 'r')\n",
    "zip_ref.extractall(r'../Mumbai/Raw/')\n",
    "zip_ref.close()"
   ]
  },
  {
   "cell_type": "markdown",
   "id": "fde01d0e-e713-4ecd-a70f-41ce63d736d9",
   "metadata": {},
   "source": [
    "### Remove downloaded zip file (Optional)"
   ]
  },
  {
   "cell_type": "code",
   "execution_count": 110,
   "id": "2a139049-03e1-4618-8421-a13f1fc054d9",
   "metadata": {},
   "outputs": [],
   "source": [
    "os.remove(path_to_zip)"
   ]
  },
  {
   "cell_type": "markdown",
   "id": "bbe6a7c4-6622-43b5-ba04-74955a973c84",
   "metadata": {},
   "source": [
    "### Visualize Band Composites"
   ]
  },
  {
   "cell_type": "code",
   "execution_count": 121,
   "id": "fb053888-1f66-4a0e-92cc-c7264a2e29c4",
   "metadata": {},
   "outputs": [],
   "source": [
    "from shapely.geometry import MultiPolygon, Polygon\n",
    "import rasterio as rio"
   ]
  },
  {
   "cell_type": "code",
   "execution_count": 146,
   "id": "bb847be5-188b-4042-b315-4eda4ea9d7d9",
   "metadata": {},
   "outputs": [],
   "source": [
    "# Navigate to R10 directory (contains 10m resolution bands)\n",
    "R10 = r'..\\Mumbai\\Raw\\S2B_MSIL2A_20210417T053639_N0300_R005_T43QBB_20210417T083635.SAFE\\GRANULE\\L2A_T43QBB_A021481_20210417T054332\\IMG_DATA\\R10m'\n",
    "# preStr = R10.split('\\\\')[-3].split('_')[1] + '_' + R10.split('\\\\')[-3].split('_')[-1]\n",
    "preStr = 'T43QBB_20210417T053639'\n",
    "b4 = rio.open(R10 + '\\\\' + preStr +'_B04_10m.jp2')\n",
    "b3 = rio.open(R10 + '\\\\' + preStr +'_B03_10m.jp2')\n",
    "b2 = rio.open(R10 + '\\\\' + preStr +'_B02_10m.jp2')\n",
    "b8 = rio.open(R10 + '\\\\' + preStr +'_B08_10m.jp2')"
   ]
  },
  {
   "cell_type": "code",
   "execution_count": 147,
   "id": "4e2ea063-cf9a-4a82-a429-9e8e435e8a39",
   "metadata": {},
   "outputs": [],
   "source": [
    "# Export all bands as a geotiff file \n",
    "with rio.open('../Mumbai/Raw/MCGM_Raw_20210417.tiff','w',driver='Gtiff', width=b4.width, height=b4.height, \n",
    "              count=4,crs=b4.crs,transform=b4.transform, dtype=b4.dtypes[0]) as raw:\n",
    "    raw.write(b2.read(1),1) \n",
    "    raw.write(b3.read(1),2) \n",
    "    raw.write(b4.read(1),3)\n",
    "    raw.write(b8.read(1),4)\n",
    "    raw.close()"
   ]
  },
  {
   "cell_type": "code",
   "execution_count": 148,
   "id": "75fef0ac-eb37-4b67-8fb7-49b08885f5e3",
   "metadata": {},
   "outputs": [],
   "source": [
    "import rasterio.mask"
   ]
  },
  {
   "cell_type": "code",
   "execution_count": 145,
   "id": "18c3e157-c560-4205-b4b5-9f308897c4f5",
   "metadata": {},
   "outputs": [
    {
     "data": {
      "image/png": "[encoded data removed]",
      "text/plain": [
       "<Figure size 432x288 with 1 Axes>"
      ]
     },
     "metadata": {
      "needs_background": "light"
     },
     "output_type": "display_data"
    },
    {
     "data": {
      "text/plain": [
       "<AxesSubplot:>"
      ]
     },
     "execution_count": 145,
     "metadata": {},
     "output_type": "execute_result"
    }
   ],
   "source": []
  },
  {
   "cell_type": "markdown",
   "id": "621eb441-df89-4e33-b8d9-a67f39d9b2f6",
   "metadata": {},
   "source": [
    "### Resources\n",
    "\n",
    "* http://www.acgeospatial.co.uk/sentinelsat_demo/\n",
    "* https://www.hatarilabs.com/ih-en/sentinel2-images-explotarion-and-processing-with-python-and-rasterio\n",
    "* https://rasterio.readthedocs.io/en/latest/topics/plotting.html\n",
    "* https://www.youtube.com/watch?v=OUrex4SZzqc\n",
    "* https://towardsdatascience.com/satellite-imagery-access-and-analysis-in-python-jupyter-notebooks-387971ece84b"
   ]
  },
  {
   "cell_type": "code",
   "execution_count": null,
   "id": "31eed911-95b3-48ab-bdfd-3e29b6ae7637",
   "metadata": {},
   "outputs": [],
   "source": []
  }
 ],
 "metadata": {
  "kernelspec": {
   "display_name": "Python 3",
   "language": "python",
   "name": "python3"
  },
  "language_info": {
   "codemirror_mode": {
    "name": "ipython",
    "version": 3
   },
   "file_extension": ".py",
   "mimetype": "text/x-python",
   "name": "python",
   "nbconvert_exporter": "python",
   "pygments_lexer": "ipython3",
   "version": "3.7.10"
  }
 },
 "nbformat": 4,
 "nbformat_minor": 5
}
